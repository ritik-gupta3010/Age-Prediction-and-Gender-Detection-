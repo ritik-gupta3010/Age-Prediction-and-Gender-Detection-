{
 "cells": [
  {
   "cell_type": "code",
   "execution_count": null,
   "id": "ff29a164",
   "metadata": {},
   "outputs": [],
   "source": [
    "import cv2\n",
    "import numpy as np\n",
    "import pafy"
   ]
  },
  {
   "cell_type": "markdown",
   "id": "629c86ab",
   "metadata": {},
   "source": [
    "# url of the video to predict Age and gender"
   ]
  },
  {
   "cell_type": "code",
   "execution_count": null,
   "id": "58988128",
   "metadata": {},
   "outputs": [],
   "source": [
    "url = ''\n",
    "vPafy = pafy.new(url)\n",
    "play = vPafy.getbest(preftype=\"mp4\")"
   ]
  },
  {
   "cell_type": "code",
   "execution_count": null,
   "id": "65d366d4",
   "metadata": {},
   "outputs": [],
   "source": [
    "cap = cv2.VideoCapture(play.url)\n",
    "cap.set(3, 480)\n",
    "cap.set(4, 640)"
   ]
  },
  {
   "cell_type": "code",
   "execution_count": null,
   "id": "26a19bb1",
   "metadata": {},
   "outputs": [],
   "source": [
    "MODEL_MEAN_VALUES = (78.4263377603, 87.7689143744, 114.895847746)\n"
   ]
  },
  {
   "cell_type": "code",
   "execution_count": null,
   "id": "aa6aa690",
   "metadata": {},
   "outputs": [],
   "source": [
    "age_list = ['(0, 2)', '(4, 6)', '(8, 12)', '(15, 20)', '(25, 32)', '(38, 43)', '(48, 53)', '(60, 100)']"
   ]
  },
  {
   "cell_type": "code",
   "execution_count": null,
   "id": "3ffa0fa7",
   "metadata": {},
   "outputs": [],
   "source": [
    "gender_list = ['Male', 'Female']"
   ]
  },
  {
   "cell_type": "code",
   "execution_count": null,
   "id": "e0e4e474",
   "metadata": {},
   "outputs": [],
   "source": [
    "def load_caffe_models():\n",
    "    age_net = cv2.dnn.readNetFromCaffe('deploy_age.prototxt', 'age_net.caffemodel')\n",
    "    gender_net = cv2.dnn.readNetFromCaffe('deploy_gender.prototxt', 'gender_net.caffemodel')\n",
    "    return(age_net, gender_net)"
   ]
  },
  {
   "cell_type": "code",
   "execution_count": null,
   "id": "7e6b3658",
   "metadata": {},
   "outputs": [],
   "source": [
    "def video_detector(age_net, gender_net):\n",
    "    font = cv2.FONT_HERSHEY_SIMPLEX"
   ]
  },
  {
   "cell_type": "code",
   "execution_count": null,
   "id": "ee39d27b",
   "metadata": {},
   "outputs": [],
   "source": [
    "while True:\n",
    "    ret, image = cap.read()\n",
    "    face_cascade = cv2.CascadeClassifier('haarcascade_frontalface_alt.xml')\n",
    "    gray = cv2.cvtColor(image, cv2.COLOR_BGR2GRAY)\n",
    "    faces = face_cascade.detectMultiScale(gray, 1.1, 5)"
   ]
  },
  {
   "cell_type": "code",
   "execution_count": null,
   "id": "ebf7eaf6",
   "metadata": {},
   "outputs": [],
   "source": [
    "if(len(faces)>0):\n",
    "    print(\"Found {} faces\".format(str(len(faces))))"
   ]
  },
  {
   "cell_type": "code",
   "execution_count": null,
   "id": "2963efb9",
   "metadata": {},
   "outputs": [],
   "source": [
    "for (x, y, w, h )in faces:\n",
    "    cv2.rectangle(image, (x, y), (x+w, y+h), (255, 255, 0), 2)"
   ]
  },
  {
   "cell_type": "markdown",
   "id": "63acb17e",
   "metadata": {},
   "source": [
    "# get face"
   ]
  },
  {
   "cell_type": "code",
   "execution_count": null,
   "id": "9452d60d",
   "metadata": {},
   "outputs": [],
   "source": [
    "face_img = image[y:y+h, h:h+w].copy()\n",
    "blob = cv2.dnn.blobFromImage(face_img, 1, (227, 227), MODEL_MEAN_VALUES, swapRB=False)"
   ]
  },
  {
   "cell_type": "markdown",
   "id": "a6a4b39c",
   "metadata": {},
   "source": [
    "# Predict gender"
   ]
  },
  {
   "cell_type": "code",
   "execution_count": null,
   "id": "5d9f8163",
   "metadata": {},
   "outputs": [],
   "source": [
    "gender_net.setInput(blob)\n",
    "gender_preds = gender_net.forward()\n",
    "gender = gender_list[gender_preds[0].argmax()]\n",
    "print(\"Gender : \" + gender)"
   ]
  },
  {
   "cell_type": "markdown",
   "id": "85678279",
   "metadata": {},
   "source": [
    "# Predict age"
   ]
  },
  {
   "cell_type": "code",
   "execution_count": null,
   "id": "bf3db8b2",
   "metadata": {},
   "outputs": [],
   "source": [
    "age_net.setInput(blob)\n",
    "age_preds = age_net.forward()\n",
    "age = age_list[age_preds[0].argmax()]\n",
    "print(\"Age Range: \" + age)"
   ]
  },
  {
   "cell_type": "code",
   "execution_count": null,
   "id": "79e50fef",
   "metadata": {},
   "outputs": [],
   "source": [
    "overlay_text = \"%s %s\" % (gender, age)\n",
    "cv2.putText(image, overlay_text, (x, y), font, 1, (255, 255, 255), 2, cv2.LINE_AA)"
   ]
  },
  {
   "cell_type": "code",
   "execution_count": null,
   "id": "454a8dd8",
   "metadata": {},
   "outputs": [],
   "source": [
    "cv2.imshow('frame', image) "
   ]
  },
  {
   "cell_type": "code",
   "execution_count": null,
   "id": "0fbf8385",
   "metadata": {},
   "outputs": [],
   "source": [
    "if cv2.waitKey(1) & 0xFF == ord('q'): \n",
    "    break"
   ]
  },
  {
   "cell_type": "code",
   "execution_count": null,
   "id": "f4c93f54",
   "metadata": {},
   "outputs": [],
   "source": [
    "if __name__ == \"__main__\":\n",
    "    age_net, gender_net = load_caffe_models()\n",
    "    video_detector(age_net, gender_net)"
   ]
  }
 ],
 "metadata": {
  "kernelspec": {
   "display_name": "Python 3 (ipykernel)",
   "language": "python",
   "name": "python3"
  },
  "language_info": {
   "codemirror_mode": {
    "name": "ipython",
    "version": 3
   },
   "file_extension": ".py",
   "mimetype": "text/x-python",
   "name": "python",
   "nbconvert_exporter": "python",
   "pygments_lexer": "ipython3",
   "version": "3.8.1"
  }
 },
 "nbformat": 4,
 "nbformat_minor": 5
}
